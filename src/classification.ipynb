{
 "cells": [
  {
   "cell_type": "code",
   "execution_count": 10,
   "metadata": {},
   "outputs": [],
   "source": [
    "import pandas as pd\n",
    "import numpy as np\n",
    "from tqdm import tqdm\n",
    "import pydicom\n",
    "import cv2\n",
    "from math import ceil\n",
    "# import json\n",
    "\n",
    "# from sklearn.manifold import TSNE\n",
    "from sklearn.model_selection import train_test_split\n",
    "from sklearn.metrics import f1_score, accuracy_score, confusion_matrix, classification_report\n",
    "from imblearn.over_sampling import RandomOverSampler\n",
    "\n",
    "# from imblearn.over_sampling import RandomOverSampler\n",
    "import torch\n",
    "import torch.nn as nn\n",
    "import torch.optim as optim\n",
    "import torch.nn.init as init\n",
    "\n",
    "import matplotlib.pyplot as plt\n",
    "import seaborn as sns\n",
    "\n",
    "# from helpers import get_ddsm_table, get_INBreast_table, get_VinDR_table, mask_image, run_intensity_functions, run_glcm_features, get_master_df, process_image\n",
    "pd.set_option('display.max_rows', None)\n",
    "pd.set_option('display.max_columns', None)\n",
    "\n",
    "import warnings\n",
    "warnings.filterwarnings(\"ignore\")\n",
    "\n",
    "from helpers import get_ddsm_table, get_INBreast_table, get_VinDR_table, get_master_df, mask_image\n",
    "from process import process_image"
   ]
  },
  {
   "cell_type": "code",
   "execution_count": 12,
   "metadata": {},
   "outputs": [],
   "source": [
    "ddsm_df = get_ddsm_table(\"../../DDSM\")\n",
    "INbreast_df = get_INBreast_table(\"../../INbreast Release 1.0\")\n",
    "vindr_df = get_VinDR_table(\"../../VinDr\")\n",
    "master_df = get_master_df(vindr_df, ddsm_df, INbreast_df)"
   ]
  },
  {
   "cell_type": "code",
   "execution_count": 3,
   "metadata": {},
   "outputs": [],
   "source": [
    "master_df.replace({'breast_density': {'DENSITY A': 1, 'DENSITY B': 2, 'DENSITY C': 3, 'DENSITY D': 4}}, inplace=True)\n",
    "master_df['breast_density'] = pd.to_numeric(master_df['breast_density'], errors='coerce')\n",
    "master_df.dropna(subset=['breast_density'], inplace=True)\n",
    "master_df['breast_density'] = master_df['breast_density'] - 1\n",
    "# master_df = master_df.groupby('breast_density').sample(n=200)"
   ]
  },
  {
   "cell_type": "code",
   "execution_count": 5,
   "metadata": {},
   "outputs": [],
   "source": [
    "def load_image(row, process):\n",
    "    image_size = (650,400)\n",
    "    dicom_path = row[\"full_path\"]\n",
    "    vendor = row[\"Manufacturer\"]\n",
    "    dicom_data = pydicom.dcmread(dicom_path)\n",
    "    image = dicom_data.pixel_array\n",
    "    image = mask_image(image)\n",
    "    \n",
    "    if process:\n",
    "        image = process_image(image, vendor) # custom processing\n",
    "\n",
    "    image = (image - np.mean(image))/np.std(image)\n",
    "    image = cv2.resize(image, image_size)\n",
    "    image = np.expand_dims(image, axis=0)\n",
    "    image = np.expand_dims(image, axis=3)\n",
    "    return image"
   ]
  },
  {
   "cell_type": "code",
   "execution_count": 6,
   "metadata": {},
   "outputs": [],
   "source": [
    "def data_generator(df, batch_size, process=False):\n",
    "    num_samples = len(df)\n",
    "    image_size = (650,400)\n",
    "    while True:\n",
    "        for offset in range(0, num_samples, batch_size):\n",
    "            batch_df = df.iloc[offset:offset + batch_size]\n",
    "            images = []\n",
    "            labels = []\n",
    "            \n",
    "            for _, row in batch_df.iterrows():\n",
    "                dicom_path = row[\"full_path\"]\n",
    "                label = row[\"breast_density\"]\n",
    "                vendor = row[\"Manufacturer\"]\n",
    "                dicom_data = pydicom.dcmread(dicom_path)\n",
    "                image = dicom_data.pixel_array\n",
    "                image = mask_image(image)\n",
    "                \n",
    "                if process:\n",
    "                    image = process_image(image, vendor) # custom processing\n",
    "\n",
    "                image = (image - np.mean(image))/np.std(image)\n",
    "                image = cv2.resize(image, image_size)\n",
    "                images.append(image)\n",
    "                labels.append(label)\n",
    "            \n",
    "            # Convert to numpy arrays\n",
    "            images = np.array(images).reshape(-1, 1, *image_size)  # Add channel dimension\n",
    "            labels = np.array(labels)\n",
    "            \n",
    "            images = torch.tensor(images, dtype=torch.float32).to('cuda')\n",
    "            labels = torch.tensor(labels, dtype=torch.long).to('cuda')\n",
    "            yield images, labels"
   ]
  },
  {
   "cell_type": "code",
   "execution_count": null,
   "metadata": {},
   "outputs": [],
   "source": [
    "# only uncomment if data balancing should be done\n",
    "\n",
    "# ros = RandomOverSampler()\n",
    "# x, y = ros.fit_resample(master_df.drop(columns=['breast_density']), master_df['breast_density'])\n",
    "# x['breast_density'] = y\n",
    "# master_df = x"
   ]
  },
  {
   "cell_type": "markdown",
   "metadata": {},
   "source": [
    "<H3> This part runs with model.py (our custom model) </H3>"
   ]
  },
  {
   "cell_type": "code",
   "execution_count": 8,
   "metadata": {},
   "outputs": [
    {
     "name": "stdout",
     "output_type": "stream",
     "text": [
      "158 33 33\n"
     ]
    }
   ],
   "source": [
    "batch_size = 32\n",
    "\n",
    "train_df, temp_df = train_test_split(master_df, test_size=0.3)\n",
    "val_df, test_df = train_test_split(temp_df, test_size=0.5)\n",
    "\n",
    "# Create generators\n",
    "train_gen = data_generator(train_df, batch_size, True)\n",
    "val_gen = data_generator(val_df, batch_size, True)\n",
    "test_gen = data_generator(test_df, batch_size, True)\n",
    "\n",
    "# # Get the number of steps per epoch\n",
    "train_steps = ceil(len(train_df) // batch_size)\n",
    "val_steps = ceil(len(val_df) // batch_size)\n",
    "test_steps = ceil(len(test_df) // batch_size)\n",
    "print(train_steps, val_steps, test_steps)\n"
   ]
  },
  {
   "cell_type": "code",
   "execution_count": 9,
   "metadata": {},
   "outputs": [],
   "source": [
    "def train_model(model, optimizer, train_steps, val_steps, epochs, batch_size):\n",
    "    train_losses = []\n",
    "    train_accuracies = []\n",
    "    train_f1_scores = []\n",
    "    val_losses = []\n",
    "    val_accuracies = []\n",
    "    val_f1_scores = []\n",
    "    \n",
    "    criterion = nn.CrossEntropyLoss()\n",
    "    best_val_loss = float('inf')\n",
    "    epochs_without_improvement = 0\n",
    "    patience = 10\n",
    "\n",
    "    for epoch in range(epochs):\n",
    "        model.train()\n",
    "        train_loss, train_acc, train_f1 = 0, 0, 0\n",
    "        for _ in tqdm(range(train_steps), desc='Training batch'):\n",
    "            images, labels = next(train_gen)\n",
    "            optimizer.zero_grad()\n",
    "            outputs = model(images)\n",
    "            loss = criterion(outputs, labels)\n",
    "            loss.backward()\n",
    "            optimizer.step()\n",
    "\n",
    "            # Calculate metrics\n",
    "            preds = torch.argmax(outputs, dim=1)\n",
    "            train_loss += loss.item()\n",
    "            train_acc += (preds == labels).sum().item()\n",
    "            train_f1 += f1_score(labels.cpu(), preds.cpu(), average='weighted')\n",
    "\n",
    "        train_loss /= train_steps\n",
    "        train_acc /= (train_steps*batch_size)\n",
    "        train_f1 /= train_steps\n",
    "        train_losses.append(train_loss)\n",
    "        train_accuracies.append(train_acc)\n",
    "        train_f1_scores.append(train_f1)\n",
    "\n",
    "        # Validation phase\n",
    "        model.eval()\n",
    "        val_loss, val_acc, val_f1 = 0, 0, 0\n",
    "        with torch.no_grad():\n",
    "            for _ in tqdm(range(val_steps), desc='Validation batch'):\n",
    "                images, labels = next(val_gen)         \n",
    "                outputs = model(images)\n",
    "                loss = criterion(outputs, labels)\n",
    "\n",
    "                # Calculate metrics\n",
    "                preds = torch.argmax(outputs, dim=1)\n",
    "                val_loss += loss.item()\n",
    "                val_acc += (preds == labels).sum().item()\n",
    "                val_f1 += f1_score(labels.cpu(), preds.cpu(), average='weighted')\n",
    "\n",
    "        val_loss /= val_steps\n",
    "        val_acc /= (val_steps*batch_size)\n",
    "        val_f1 /= val_steps\n",
    "        val_losses.append(val_loss)\n",
    "        val_accuracies.append(val_acc)\n",
    "        val_f1_scores.append(val_f1)\n",
    "\n",
    "        # Print progress\n",
    "        print(f\"Epoch {epoch+1}/{epochs} | Train Loss: {train_loss:.4f} | Train Acc: {train_acc:.4f} | Train F1: {train_f1:.4f}\")\n",
    "        print(f\"Validation Loss: {val_loss:.4f} | Validation Acc: {val_acc:.4f} | Validation F1: {val_f1:.4f}\")\n",
    "\n",
    "        # Early stopping check\n",
    "        if val_loss < best_val_loss:\n",
    "            best_val_loss = val_loss\n",
    "            epochs_without_improvement = 0\n",
    "        else:\n",
    "            epochs_without_improvement += 1\n",
    "\n",
    "        if epochs_without_improvement >= patience:\n",
    "            print(\"Early stopping triggered!\")\n",
    "            break\n",
    "\n",
    "    return (train_losses, train_accuracies, train_f1_scores, val_losses, val_accuracies, val_f1_scores)"
   ]
  },
  {
   "cell_type": "code",
   "execution_count": 10,
   "metadata": {},
   "outputs": [],
   "source": [
    "from model import BaselineBreastModel as CNNModel\n",
    "model = CNNModel(device='cuda', nodropout_probability=1, gaussian_noise_std=0)\n",
    "model = model.to('cuda')"
   ]
  },
  {
   "cell_type": "code",
   "execution_count": 11,
   "metadata": {},
   "outputs": [
    {
     "data": {
      "text/plain": [
       "BaselineBreastModel(\n",
       "  (_conv_layer_ls): ModuleList(\n",
       "    (0): SimpleConvLayer(\n",
       "      (conv): Conv2d(1, 32, kernel_size=(3, 3), stride=(2, 2))\n",
       "    )\n",
       "    (1): SimpleConvLayer(\n",
       "      (conv): Conv2d(32, 64, kernel_size=(3, 3), stride=(2, 2))\n",
       "    )\n",
       "    (2-3): 2 x SimpleConvLayer(\n",
       "      (conv): Conv2d(64, 64, kernel_size=(3, 3), stride=(1, 1))\n",
       "    )\n",
       "    (4): SimpleConvLayer(\n",
       "      (conv): Conv2d(64, 128, kernel_size=(3, 3), stride=(1, 1))\n",
       "    )\n",
       "    (5-9): 5 x SimpleConvLayer(\n",
       "      (conv): Conv2d(128, 128, kernel_size=(3, 3), stride=(1, 1))\n",
       "    )\n",
       "    (10): SimpleConvLayer(\n",
       "      (conv): Conv2d(128, 256, kernel_size=(3, 3), stride=(1, 1))\n",
       "    )\n",
       "    (11-12): 2 x SimpleConvLayer(\n",
       "      (conv): Conv2d(256, 256, kernel_size=(3, 3), stride=(1, 1))\n",
       "    )\n",
       "  )\n",
       "  (all_views_pad): SimplePad()\n",
       "  (all_views_max_pool): SimpleMaxPool()\n",
       "  (all_views_avg_pool): SimpleAvgPool()\n",
       "  (fc1): Linear(in_features=19584, out_features=1024, bias=True)\n",
       "  (fc2): Linear(in_features=1024, out_features=4, bias=True)\n",
       "  (gaussian_noise_layer): SimpleGaussianNoise()\n",
       "  (dropout): Dropout(p=0, inplace=False)\n",
       ")"
      ]
     },
     "execution_count": 11,
     "metadata": {},
     "output_type": "execute_result"
    }
   ],
   "source": [
    "def initialize_weights_he_uniform(layer):\n",
    "    if isinstance(layer, nn.Linear) or isinstance(layer, nn.Conv2d):\n",
    "        init.kaiming_uniform_(layer.weight, nonlinearity='relu')\n",
    "        if layer.bias is not None:\n",
    "            nn.init.zeros_(layer.bias)\n",
    "\n",
    "model.apply(initialize_weights_he_uniform)"
   ]
  },
  {
   "cell_type": "code",
   "execution_count": 12,
   "metadata": {},
   "outputs": [
    {
     "name": "stderr",
     "output_type": "stream",
     "text": [
      "Training batch: 100%|██████████| 158/158 [20:25<00:00,  7.76s/it]\n",
      "Validation batch: 100%|██████████| 33/33 [04:13<00:00,  7.68s/it]\n"
     ]
    },
    {
     "name": "stdout",
     "output_type": "stream",
     "text": [
      "Epoch 1/100 | Train Loss: 1.4907 | Train Acc: 0.2530 | Train F1: 0.1075\n",
      "Validation Loss: 1.4956 | Validation Acc: 0.2481 | Validation F1: 0.1039\n"
     ]
    },
    {
     "name": "stderr",
     "output_type": "stream",
     "text": [
      "Training batch:   6%|▋         | 10/158 [01:10<17:24,  7.05s/it]\n"
     ]
    },
    {
     "ename": "KeyboardInterrupt",
     "evalue": "",
     "output_type": "error",
     "traceback": [
      "\u001b[1;31m---------------------------------------------------------------------------\u001b[0m",
      "\u001b[1;31mKeyboardInterrupt\u001b[0m                         Traceback (most recent call last)",
      "Cell \u001b[1;32mIn[12], line 1\u001b[0m\n\u001b[1;32m----> 1\u001b[0m metrics \u001b[38;5;241m=\u001b[39m \u001b[43mtrain_model\u001b[49m\u001b[43m(\u001b[49m\u001b[43mmodel\u001b[49m\u001b[43m,\u001b[49m\u001b[43m \u001b[49m\u001b[43moptimizer\u001b[49m\u001b[38;5;241;43m=\u001b[39;49m\u001b[43moptim\u001b[49m\u001b[38;5;241;43m.\u001b[39;49m\u001b[43mAdam\u001b[49m\u001b[43m(\u001b[49m\u001b[43mmodel\u001b[49m\u001b[38;5;241;43m.\u001b[39;49m\u001b[43mparameters\u001b[49m\u001b[43m(\u001b[49m\u001b[43m)\u001b[49m\u001b[43m,\u001b[49m\u001b[43m \u001b[49m\u001b[43mlr\u001b[49m\u001b[38;5;241;43m=\u001b[39;49m\u001b[38;5;241;43m0.0001\u001b[39;49m\u001b[43m)\u001b[49m\u001b[43m,\u001b[49m\u001b[43m \u001b[49m\n\u001b[0;32m      2\u001b[0m \u001b[43m                      \u001b[49m\u001b[43mtrain_steps\u001b[49m\u001b[38;5;241;43m=\u001b[39;49m\u001b[43mtrain_steps\u001b[49m\u001b[43m,\u001b[49m\u001b[43m \u001b[49m\u001b[43mval_steps\u001b[49m\u001b[38;5;241;43m=\u001b[39;49m\u001b[43mval_steps\u001b[49m\u001b[43m,\u001b[49m\u001b[43m \u001b[49m\n\u001b[0;32m      3\u001b[0m \u001b[43m                      \u001b[49m\u001b[43mepochs\u001b[49m\u001b[38;5;241;43m=\u001b[39;49m\u001b[38;5;241;43m100\u001b[39;49m\u001b[43m,\u001b[49m\u001b[43m \u001b[49m\u001b[43mbatch_size\u001b[49m\u001b[38;5;241;43m=\u001b[39;49m\u001b[38;5;241;43m32\u001b[39;49m\u001b[43m)\u001b[49m\n",
      "Cell \u001b[1;32mIn[9], line 18\u001b[0m, in \u001b[0;36mtrain_model\u001b[1;34m(model, optimizer, train_steps, val_steps, epochs, batch_size)\u001b[0m\n\u001b[0;32m     16\u001b[0m train_loss, train_acc, train_f1 \u001b[38;5;241m=\u001b[39m \u001b[38;5;241m0\u001b[39m, \u001b[38;5;241m0\u001b[39m, \u001b[38;5;241m0\u001b[39m\n\u001b[0;32m     17\u001b[0m \u001b[38;5;28;01mfor\u001b[39;00m _ \u001b[38;5;129;01min\u001b[39;00m tqdm(\u001b[38;5;28mrange\u001b[39m(train_steps), desc\u001b[38;5;241m=\u001b[39m\u001b[38;5;124m'\u001b[39m\u001b[38;5;124mTraining batch\u001b[39m\u001b[38;5;124m'\u001b[39m):\n\u001b[1;32m---> 18\u001b[0m     images, labels \u001b[38;5;241m=\u001b[39m \u001b[38;5;28;43mnext\u001b[39;49m\u001b[43m(\u001b[49m\u001b[43mtrain_gen\u001b[49m\u001b[43m)\u001b[49m\n\u001b[0;32m     19\u001b[0m     optimizer\u001b[38;5;241m.\u001b[39mzero_grad()\n\u001b[0;32m     20\u001b[0m     outputs \u001b[38;5;241m=\u001b[39m model(images)\n",
      "Cell \u001b[1;32mIn[6], line 22\u001b[0m, in \u001b[0;36mdata_generator\u001b[1;34m(df, batch_size, process)\u001b[0m\n\u001b[0;32m     19\u001b[0m \u001b[38;5;28;01mif\u001b[39;00m process:\n\u001b[0;32m     20\u001b[0m     image \u001b[38;5;241m=\u001b[39m process_image(image, vendor) \u001b[38;5;66;03m# custom processing\u001b[39;00m\n\u001b[1;32m---> 22\u001b[0m image \u001b[38;5;241m=\u001b[39m (image \u001b[38;5;241m-\u001b[39m \u001b[43mnp\u001b[49m\u001b[38;5;241;43m.\u001b[39;49m\u001b[43mmean\u001b[49m\u001b[43m(\u001b[49m\u001b[43mimage\u001b[49m\u001b[43m)\u001b[49m)\u001b[38;5;241m/\u001b[39mnp\u001b[38;5;241m.\u001b[39mstd(image)\n\u001b[0;32m     23\u001b[0m image \u001b[38;5;241m=\u001b[39m cv2\u001b[38;5;241m.\u001b[39mresize(image, image_size)\n\u001b[0;32m     24\u001b[0m images\u001b[38;5;241m.\u001b[39mappend(image)\n",
      "File \u001b[1;32mc:\\Users\\ASUS\\AppData\\Local\\Programs\\Python\\Python39\\lib\\site-packages\\numpy\\_core\\fromnumeric.py:3596\u001b[0m, in \u001b[0;36mmean\u001b[1;34m(a, axis, dtype, out, keepdims, where)\u001b[0m\n\u001b[0;32m   3593\u001b[0m     \u001b[38;5;28;01melse\u001b[39;00m:\n\u001b[0;32m   3594\u001b[0m         \u001b[38;5;28;01mreturn\u001b[39;00m mean(axis\u001b[38;5;241m=\u001b[39maxis, dtype\u001b[38;5;241m=\u001b[39mdtype, out\u001b[38;5;241m=\u001b[39mout, \u001b[38;5;241m*\u001b[39m\u001b[38;5;241m*\u001b[39mkwargs)\n\u001b[1;32m-> 3596\u001b[0m \u001b[38;5;28;01mreturn\u001b[39;00m _methods\u001b[38;5;241m.\u001b[39m_mean(a, axis\u001b[38;5;241m=\u001b[39maxis, dtype\u001b[38;5;241m=\u001b[39mdtype,\n\u001b[0;32m   3597\u001b[0m                       out\u001b[38;5;241m=\u001b[39mout, \u001b[38;5;241m*\u001b[39m\u001b[38;5;241m*\u001b[39mkwargs)\n",
      "File \u001b[1;32mc:\\Users\\ASUS\\AppData\\Local\\Programs\\Python\\Python39\\lib\\site-packages\\numpy\\_core\\_methods.py:127\u001b[0m, in \u001b[0;36m_mean\u001b[1;34m(a, axis, dtype, out, keepdims, where)\u001b[0m\n\u001b[0;32m    124\u001b[0m         dtype \u001b[38;5;241m=\u001b[39m mu\u001b[38;5;241m.\u001b[39mdtype(\u001b[38;5;124m'\u001b[39m\u001b[38;5;124mf4\u001b[39m\u001b[38;5;124m'\u001b[39m)\n\u001b[0;32m    125\u001b[0m         is_float16_result \u001b[38;5;241m=\u001b[39m \u001b[38;5;28;01mTrue\u001b[39;00m\n\u001b[1;32m--> 127\u001b[0m ret \u001b[38;5;241m=\u001b[39m \u001b[43mumr_sum\u001b[49m\u001b[43m(\u001b[49m\u001b[43marr\u001b[49m\u001b[43m,\u001b[49m\u001b[43m \u001b[49m\u001b[43maxis\u001b[49m\u001b[43m,\u001b[49m\u001b[43m \u001b[49m\u001b[43mdtype\u001b[49m\u001b[43m,\u001b[49m\u001b[43m \u001b[49m\u001b[43mout\u001b[49m\u001b[43m,\u001b[49m\u001b[43m \u001b[49m\u001b[43mkeepdims\u001b[49m\u001b[43m,\u001b[49m\u001b[43m \u001b[49m\u001b[43mwhere\u001b[49m\u001b[38;5;241;43m=\u001b[39;49m\u001b[43mwhere\u001b[49m\u001b[43m)\u001b[49m\n\u001b[0;32m    128\u001b[0m \u001b[38;5;28;01mif\u001b[39;00m \u001b[38;5;28misinstance\u001b[39m(ret, mu\u001b[38;5;241m.\u001b[39mndarray):\n\u001b[0;32m    129\u001b[0m     \u001b[38;5;28;01mwith\u001b[39;00m _no_nep50_warning():\n",
      "\u001b[1;31mKeyboardInterrupt\u001b[0m: "
     ]
    }
   ],
   "source": [
    "metrics = train_model(model, optimizer=optim.Adam(model.parameters(), lr=0.0001), \n",
    "                      train_steps=train_steps, val_steps=val_steps, \n",
    "                      epochs=100, batch_size=32)"
   ]
  },
  {
   "cell_type": "code",
   "execution_count": 17,
   "metadata": {},
   "outputs": [],
   "source": [
    "torch.save(model.state_dict(), 'model.pth')\n",
    "torch.save(model, 'model_full.pth')"
   ]
  },
  {
   "cell_type": "markdown",
   "metadata": {},
   "source": [
    "<H3> Runs with the prebuilt model from the GitHub Repo </H3>"
   ]
  },
  {
   "cell_type": "code",
   "execution_count": 14,
   "metadata": {},
   "outputs": [],
   "source": [
    "import models_torch as models"
   ]
  },
  {
   "cell_type": "code",
   "execution_count": 10,
   "metadata": {},
   "outputs": [
    {
     "data": {
      "text/plain": [
       "<All keys matched successfully>"
      ]
     },
     "execution_count": 10,
     "metadata": {},
     "output_type": "execute_result"
    }
   ],
   "source": [
    "model = models.BaselineBreastModel('cuda', nodropout_probability=1.0, gaussian_noise_std=0.0).to('cuda')\n",
    "model.load_state_dict(torch.load('model.p'))"
   ]
  },
  {
   "cell_type": "code",
   "execution_count": 11,
   "metadata": {},
   "outputs": [],
   "source": [
    "df = master_df[master_df['Manufacturer'].isin(['SIEMENS', 'Planmed', 'IMS s.r.l.', 'IMS GIOTTO S.p.A.'])]\n",
    "df.sort_values('full_path', inplace=True)\n",
    "df['patient'] = df['full_path'].str.split('\\\\').str[1]"
   ]
  },
  {
   "cell_type": "code",
   "execution_count": 12,
   "metadata": {},
   "outputs": [],
   "source": [
    "patients = df['patient'].unique()\n",
    "goodpatients = []\n",
    "for i in patients:\n",
    "    rows = df[df['patient'] == i]\n",
    "    views = rows['view_position'].values\n",
    "    lats = rows['laterality'].values\n",
    "    densities = rows['breast_density'].nunique()\n",
    "    if('CC' in views and 'MLO' in views):\n",
    "        if('L' in lats and 'R' in lats):\n",
    "            if(len(views) == 4 and len(lats) == 4):\n",
    "                if(densities == 1):\n",
    "                    goodpatients.append(i)"
   ]
  },
  {
   "cell_type": "code",
   "execution_count": 13,
   "metadata": {},
   "outputs": [],
   "source": [
    "df = df[df['patient'].isin(goodpatients)]"
   ]
  },
  {
   "cell_type": "code",
   "execution_count": 14,
   "metadata": {},
   "outputs": [],
   "source": [
    "correct=0\n",
    "device = 'cuda'"
   ]
  },
  {
   "cell_type": "code",
   "execution_count": 15,
   "metadata": {},
   "outputs": [],
   "source": [
    "preds = []\n",
    "labels = []"
   ]
  },
  {
   "cell_type": "code",
   "execution_count": 125,
   "metadata": {},
   "outputs": [
    {
     "name": "stderr",
     "output_type": "stream",
     "text": [
      "100%|██████████| 479/479 [06:05<00:00,  1.31it/s]\n"
     ]
    }
   ],
   "source": [
    "# for i in tqdm(range(0, len(df), 4)):\n",
    "#     l_cc = None\n",
    "#     r_cc = None\n",
    "#     l_mlo = None\n",
    "#     r_mlo = None\n",
    "#     for j in range(4):\n",
    "#         row = df.iloc[i+j]\n",
    "#         image = load_image(row, False)\n",
    "#         if(row['laterality'] == 'L' and row['view_position'] == 'CC'):\n",
    "#             l_cc = image\n",
    "#         elif(row['laterality'] == 'R' and row['view_position'] == 'CC'):\n",
    "#             r_cc = image\n",
    "#         elif(row['laterality'] == 'L' and row['view_position'] == 'MLO'):\n",
    "#             l_mlo = image\n",
    "#         elif(row['laterality'] == 'R' and row['view_position'] == 'MLO'):\n",
    "#             r_mlo = image\n",
    "#     x = {\n",
    "#         \"L-CC\": torch.Tensor(l_cc).permute(0, 3, 1, 2).to(device),\n",
    "#         \"L-MLO\": torch.Tensor(l_mlo).permute(0, 3, 1, 2).to(device),\n",
    "#         \"R-CC\": torch.Tensor(r_cc).permute(0, 3, 1, 2).to(device),\n",
    "#         \"R-MLO\": torch.Tensor(r_mlo).permute(0, 3, 1, 2).to(device),\n",
    "#     }\n",
    "#     label = row['breast_density']\n",
    "#     with torch.no_grad():\n",
    "#         prediction_density = model(x).cpu()\n",
    "#         pred = torch.argmax(prediction_density, dim=1)\n",
    "#         preds.append(pred.item())\n",
    "#         labels.append(int(label))\n",
    "#         acc = (pred.item() == int(label))\n",
    "#         if(acc):\n",
    "#             correct+=1\n",
    "        "
   ]
  },
  {
   "cell_type": "code",
   "execution_count": 16,
   "metadata": {},
   "outputs": [],
   "source": [
    "def new_gen(df, process):\n",
    "    num_samples = len(df)\n",
    "    while True:\n",
    "        for i in range(0, num_samples, 4):\n",
    "            l_cc = None\n",
    "            r_cc = None\n",
    "            l_mlo = None\n",
    "            r_mlo = None\n",
    "            for j in range(4):\n",
    "                row = df.iloc[i+j]\n",
    "                image = load_image(row, process)\n",
    "                if(row['laterality'] == 'L' and row['view_position'] == 'CC'):\n",
    "                    l_cc = image\n",
    "                elif(row['laterality'] == 'R' and row['view_position'] == 'CC'):\n",
    "                    r_cc = image\n",
    "                elif(row['laterality'] == 'L' and row['view_position'] == 'MLO'):\n",
    "                    l_mlo = image\n",
    "                elif(row['laterality'] == 'R' and row['view_position'] == 'MLO'):\n",
    "                    r_mlo = image\n",
    "                label = row['breast_density']\n",
    "            x = {\n",
    "                \"L-CC\": torch.Tensor(l_cc).permute(0, 3, 1, 2).to(device),\n",
    "                \"L-MLO\": torch.Tensor(l_mlo).permute(0, 3, 1, 2).to(device),\n",
    "                \"R-CC\": torch.Tensor(r_cc).permute(0, 3, 1, 2).to(device),\n",
    "                \"R-MLO\": torch.Tensor(r_mlo).permute(0, 3, 1, 2).to(device),\n",
    "            }\n",
    "            label = torch.tensor(int(label), dtype=torch.long).view(1).to(device)\n",
    "            yield x, label"
   ]
  },
  {
   "cell_type": "code",
   "execution_count": 18,
   "metadata": {},
   "outputs": [],
   "source": [
    "patient_ids = df[\"patient\"].unique()\n",
    "\n",
    "train_ids, temp_ids = train_test_split(patient_ids, test_size=0.3, random_state=42)\n",
    "val_ids, test_ids = train_test_split(temp_ids, test_size=0.5, random_state=42)\n",
    "\n",
    "train_data = df[df[\"patient\"].isin(train_ids)]\n",
    "val_data = df[df[\"patient\"].isin(val_ids)]\n",
    "test_data = df[df[\"patient\"].isin(test_ids)]\n",
    "\n",
    "train_gen = new_gen(train_data, True)\n",
    "val_gen = new_gen(val_data, True)\n",
    "test_gen = new_gen(test_data, True)\n"
   ]
  },
  {
   "cell_type": "code",
   "execution_count": 19,
   "metadata": {},
   "outputs": [],
   "source": [
    "for param in model.parameters():\n",
    "    param.requires_grad = False\n",
    "\n",
    "for param in model.fc1.parameters():\n",
    "    param.requires_grad = True\n",
    "\n",
    "for param in model.fc2.parameters():\n",
    "    param.requires_grad = True"
   ]
  },
  {
   "cell_type": "code",
   "execution_count": 20,
   "metadata": {},
   "outputs": [],
   "source": [
    "optimizer = optim.Adam(filter(lambda p: p.requires_grad, model.parameters()), lr=0.001)\n",
    "train_steps, val_steps = int(len(train_data)/4), int(len(val_data)/4)\n"
   ]
  },
  {
   "cell_type": "code",
   "execution_count": 21,
   "metadata": {},
   "outputs": [
    {
     "name": "stderr",
     "output_type": "stream",
     "text": [
      "Training batch: 100%|██████████| 335/335 [04:50<00:00,  1.15it/s]\n",
      "Validation batch: 100%|██████████| 72/72 [00:58<00:00,  1.23it/s]\n"
     ]
    },
    {
     "name": "stdout",
     "output_type": "stream",
     "text": [
      "Epoch 1/5 | Train Loss: 0.9665 | Train Acc: 0.7791 | Train F1: 0.7791\n",
      "Validation Loss: 1.0353 | Validation Acc: 0.7083 | Validation F1: 0.7083\n"
     ]
    },
    {
     "name": "stderr",
     "output_type": "stream",
     "text": [
      "Training batch: 100%|██████████| 335/335 [04:53<00:00,  1.14it/s]\n",
      "Validation batch: 100%|██████████| 72/72 [00:59<00:00,  1.22it/s]\n"
     ]
    },
    {
     "name": "stdout",
     "output_type": "stream",
     "text": [
      "Epoch 2/5 | Train Loss: 0.9646 | Train Acc: 0.7791 | Train F1: 0.7791\n",
      "Validation Loss: 1.0353 | Validation Acc: 0.7083 | Validation F1: 0.7083\n"
     ]
    },
    {
     "name": "stderr",
     "output_type": "stream",
     "text": [
      "Training batch: 100%|██████████| 335/335 [04:55<00:00,  1.13it/s]\n",
      "Validation batch: 100%|██████████| 72/72 [00:59<00:00,  1.21it/s]\n"
     ]
    },
    {
     "name": "stdout",
     "output_type": "stream",
     "text": [
      "Epoch 3/5 | Train Loss: 0.9647 | Train Acc: 0.7791 | Train F1: 0.7791\n",
      "Validation Loss: 1.0353 | Validation Acc: 0.7083 | Validation F1: 0.7083\n"
     ]
    },
    {
     "name": "stderr",
     "output_type": "stream",
     "text": [
      "Training batch: 100%|██████████| 335/335 [05:03<00:00,  1.10it/s]\n",
      "Validation batch: 100%|██████████| 72/72 [01:04<00:00,  1.12it/s]\n"
     ]
    },
    {
     "name": "stdout",
     "output_type": "stream",
     "text": [
      "Epoch 4/5 | Train Loss: 0.9646 | Train Acc: 0.7791 | Train F1: 0.7791\n",
      "Validation Loss: 1.0353 | Validation Acc: 0.7083 | Validation F1: 0.7083\n"
     ]
    },
    {
     "name": "stderr",
     "output_type": "stream",
     "text": [
      "Training batch: 100%|██████████| 335/335 [05:15<00:00,  1.06it/s]\n",
      "Validation batch: 100%|██████████| 72/72 [01:05<00:00,  1.10it/s]"
     ]
    },
    {
     "name": "stdout",
     "output_type": "stream",
     "text": [
      "Epoch 5/5 | Train Loss: 0.9646 | Train Acc: 0.7791 | Train F1: 0.7791\n",
      "Validation Loss: 1.0353 | Validation Acc: 0.7083 | Validation F1: 0.7083\n"
     ]
    },
    {
     "name": "stderr",
     "output_type": "stream",
     "text": [
      "\n"
     ]
    }
   ],
   "source": [
    "metrics = train_model(model, optimizer, train_steps, val_steps)"
   ]
  },
  {
   "cell_type": "code",
   "execution_count": 22,
   "metadata": {},
   "outputs": [],
   "source": [
    "test_steps = len(test_data)/4"
   ]
  },
  {
   "cell_type": "code",
   "execution_count": 23,
   "metadata": {},
   "outputs": [
    {
     "data": {
      "text/plain": [
       "breast_density\n",
       "2.0    1044\n",
       "3.0     168\n",
       "1.0     120\n",
       "0.0       8\n",
       "Name: count, dtype: int64"
      ]
     },
     "execution_count": 23,
     "metadata": {},
     "output_type": "execute_result"
    }
   ],
   "source": [
    "train_data['breast_density'].value_counts()"
   ]
  },
  {
   "cell_type": "code",
   "execution_count": 24,
   "metadata": {},
   "outputs": [
    {
     "name": "stderr",
     "output_type": "stream",
     "text": [
      "Training batch: 100%|██████████| 72/72 [01:02<00:00,  1.16it/s]\n"
     ]
    }
   ],
   "source": [
    "correct = 0\n",
    "preds = []\n",
    "truths = []\n",
    "for _ in tqdm(range(int(test_steps)), desc='Training batch'):\n",
    "    images, labels = next(test_gen)\n",
    "    with torch.no_grad():\n",
    "        prediction_density = model(images)\n",
    "        pred = torch.argmax(prediction_density, dim=1)\n",
    "        preds.append(pred.item())\n",
    "        truths.append(int(labels))\n",
    "        acc = (pred.item() == int(labels))\n",
    "        if(acc):\n",
    "            correct+=1"
   ]
  },
  {
   "cell_type": "code",
   "execution_count": 25,
   "metadata": {},
   "outputs": [
    {
     "data": {
      "text/plain": [
       "76.38888888888889"
      ]
     },
     "execution_count": 25,
     "metadata": {},
     "output_type": "execute_result"
    }
   ],
   "source": [
    "correct/72 * 100"
   ]
  },
  {
   "cell_type": "code",
   "execution_count": 26,
   "metadata": {},
   "outputs": [
    {
     "data": {
      "image/png": "[encoded data removed]",
      "text/plain": [
       "<Figure size 800x600 with 2 Axes>"
      ]
     },
     "metadata": {},
     "output_type": "display_data"
    }
   ],
   "source": [
    "cm = confusion_matrix(truths, preds)\n",
    "plt.figure(figsize=(8, 6))\n",
    "sns.heatmap(cm, annot=True, fmt='d', cmap='Blues', xticklabels=np.unique(truths), yticklabels=np.unique(truths))\n",
    "plt.xlabel('Predicted Labels')\n",
    "plt.ylabel('True Labels')\n",
    "plt.title('Confusion Matrix')\n",
    "plt.show()"
   ]
  },
  {
   "cell_type": "code",
   "execution_count": 27,
   "metadata": {},
   "outputs": [
    {
     "data": {
      "text/plain": [
       "0.6616360454943133"
      ]
     },
     "execution_count": 27,
     "metadata": {},
     "output_type": "execute_result"
    }
   ],
   "source": [
    "f1_score(truths, preds, average='weighted')"
   ]
  }
 ],
 "metadata": {
  "kernelspec": {
   "display_name": "Python 3",
   "language": "python",
   "name": "python3"
  },
  "language_info": {
   "codemirror_mode": {
    "name": "ipython",
    "version": 3
   },
   "file_extension": ".py",
   "mimetype": "text/x-python",
   "name": "python",
   "nbconvert_exporter": "python",
   "pygments_lexer": "ipython3",
   "version": "3.9.13"
  }
 },
 "nbformat": 4,
 "nbformat_minor": 2
}
