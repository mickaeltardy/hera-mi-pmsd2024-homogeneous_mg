{
 "cells": [
  {
   "cell_type": "code",
   "execution_count": 117,
   "metadata": {},
   "outputs": [],
   "source": [
    "import pandas as pd\n",
    "import numpy as np\n",
    "from tqdm import tqdm\n",
    "import pydicom\n",
    "import cv2\n",
    "from math import ceil\n",
    "# import json\n",
    "\n",
    "# from sklearn.manifold import TSNE\n",
    "from sklearn.preprocessing import StandardScaler,LabelEncoder, label_binarize\n",
    "from sklearn.model_selection import train_test_split\n",
    "from sklearn.metrics import f1_score, accuracy_score, confusion_matrix, classification_report\n",
    "\n",
    "# from imblearn.over_sampling import RandomOverSampler\n",
    "import torch\n",
    "from torch.utils.data import DataLoader,TensorDataset\n",
    "import torch.nn as nn\n",
    "import torch.optim as optim\n",
    "\n",
    "import matplotlib.pyplot as plt\n",
    "import seaborn as sns\n",
    "\n",
    "# from helpers import get_ddsm_table, get_INBreast_table, get_VinDR_table, mask_image, run_intensity_functions, run_glcm_features, get_master_df, process_image\n",
    "pd.set_option('display.max_rows', None)\n",
    "pd.set_option('display.max_columns', None)\n",
    "\n",
    "import warnings\n",
    "warnings.filterwarnings(\"ignore\")"
   ]
  },
  {
   "cell_type": "code",
   "execution_count": 68,
   "metadata": {},
   "outputs": [],
   "source": [
    "from helpers import get_ddsm_table, get_INBreast_table, get_VinDR_table, get_master_df, process_image, mask_image"
   ]
  },
  {
   "cell_type": "code",
   "execution_count": 43,
   "metadata": {},
   "outputs": [],
   "source": [
    "ddsm_df = get_ddsm_table(\"../DDSM\")\n",
    "INbreast_df = get_INBreast_table(\"../INbreast Release 1.0\")\n",
    "vindr_df = get_VinDR_table(\"../VinDr\")\n",
    "master_df = get_master_df(vindr_df, ddsm_df, INbreast_df)"
   ]
  },
  {
   "cell_type": "code",
   "execution_count": 45,
   "metadata": {},
   "outputs": [],
   "source": [
    "master_df.replace({'breast_density': {'DENSITY A': 1, 'DENSITY B': 2, 'DENSITY C': 3, 'DENSITY D': 4}}, inplace=True)\n",
    "master_df['breast_density'] = pd.to_numeric(master_df['breast_density'], errors='coerce')\n",
    "master_df.dropna(subset=['breast_density'], inplace=True)\n",
    "master_df['breast_density'] = master_df['breast_density'] - 1"
   ]
  },
  {
   "cell_type": "code",
   "execution_count": 118,
   "metadata": {},
   "outputs": [],
   "source": [
    "def data_generator(df, batch_size, process=False):\n",
    "    num_samples = len(df)\n",
    "    image_size = (512,512)\n",
    "    while True:\n",
    "        for offset in range(0, num_samples, batch_size):\n",
    "            batch_df = df.iloc[offset:offset + batch_size]\n",
    "            images = []\n",
    "            labels = []\n",
    "            \n",
    "            for _, row in batch_df.iterrows():\n",
    "                dicom_path = row[\"full_path\"]\n",
    "                label = row[\"breast_density\"]\n",
    "                vendor = row[\"Manufacturer\"]\n",
    "                dicom_data = pydicom.dcmread(dicom_path)\n",
    "                image = dicom_data.pixel_array\n",
    "                image = mask_image(image)\n",
    "                \n",
    "                if process:\n",
    "                    image = process_image(image, vendor) # custom processing\n",
    "\n",
    "                image = (image - np.mean(image))/np.std(image)\n",
    "                image = cv2.resize(image, image_size)\n",
    "                images.append(image)\n",
    "                labels.append(label)\n",
    "            \n",
    "            # Convert to numpy arrays\n",
    "            images = np.array(images).reshape(-1, 1, *image_size)  # Add channel dimension\n",
    "            labels = np.array(labels)\n",
    "            \n",
    "            yield images, labels"
   ]
  },
  {
   "cell_type": "code",
   "execution_count": 119,
   "metadata": {},
   "outputs": [],
   "source": [
    "batch_size = 32\n",
    "\n",
    "train_df, test_df = train_test_split(master_df, test_size=0.2, random_state=42)\n",
    "\n",
    "# Create generators\n",
    "train_gen = data_generator(train_df, batch_size)\n",
    "test_gen = data_generator(test_df, batch_size)\n",
    "\n",
    "# Get the number of steps per epoch\n",
    "train_steps = ceil(len(train_df) // batch_size)\n",
    "test_steps = ceil(len(test_df) // batch_size)\n"
   ]
  },
  {
   "cell_type": "code",
   "execution_count": 120,
   "metadata": {},
   "outputs": [
    {
     "name": "stdout",
     "output_type": "stream",
     "text": [
      "Images shape: (32, 1, 512, 512)\n",
      "Labels shape: (32,)\n"
     ]
    }
   ],
   "source": [
    "# Get a batch from the generator\n",
    "images, labels = next(train_gen)\n",
    "\n",
    "# Print the shapes of the images and labels\n",
    "print(\"Images shape:\", images.shape)\n",
    "print(\"Labels shape:\", labels.shape)"
   ]
  },
  {
   "cell_type": "code",
   "execution_count": 100,
   "metadata": {},
   "outputs": [
    {
     "data": {
      "text/plain": [
       "516"
      ]
     },
     "execution_count": 100,
     "metadata": {},
     "output_type": "execute_result"
    }
   ],
   "source": [
    "len(val_df)"
   ]
  },
  {
   "cell_type": "code",
   "execution_count": 92,
   "metadata": {},
   "outputs": [
    {
     "data": {
      "text/plain": [
       "2884"
      ]
     },
     "execution_count": 92,
     "metadata": {},
     "output_type": "execute_result"
    }
   ],
   "source": [
    "len(master_df)"
   ]
  },
  {
   "cell_type": "code",
   "execution_count": 86,
   "metadata": {},
   "outputs": [],
   "source": [
    "X = master_df.drop(columns=['breast_density'])\n",
    "y = master_df['breast_density']\n",
    "X_train, X_val, y_train, y_val = train_test_split(X, y, test_size=0.2, random_state=42)"
   ]
  },
  {
   "cell_type": "code",
   "execution_count": 87,
   "metadata": {},
   "outputs": [],
   "source": [
    "X_train, X_test, y_train, y_test = train_test_split(\n",
    "    X, y, test_size=0.2, random_state=42\n",
    ")"
   ]
  },
  {
   "cell_type": "code",
   "execution_count": 89,
   "metadata": {},
   "outputs": [
    {
     "data": {
      "text/plain": [
       "2307"
      ]
     },
     "execution_count": 89,
     "metadata": {},
     "output_type": "execute_result"
    }
   ],
   "source": [
    "len(X_train)"
   ]
  },
  {
   "cell_type": "code",
   "execution_count": null,
   "metadata": {},
   "outputs": [],
   "source": [
    "# build data loaders\n",
    "    # train test split\n",
    "    # X and Y\n",
    "# find shape of X by vendor so we can decide on input dimensions\n",
    "# build model\n",
    "# train model\n",
    "# test model"
   ]
  }
 ],
 "metadata": {
  "kernelspec": {
   "display_name": "Python 3",
   "language": "python",
   "name": "python3"
  },
  "language_info": {
   "codemirror_mode": {
    "name": "ipython",
    "version": 3
   },
   "file_extension": ".py",
   "mimetype": "text/x-python",
   "name": "python",
   "nbconvert_exporter": "python",
   "pygments_lexer": "ipython3",
   "version": "3.9.13"
  }
 },
 "nbformat": 4,
 "nbformat_minor": 2
}
