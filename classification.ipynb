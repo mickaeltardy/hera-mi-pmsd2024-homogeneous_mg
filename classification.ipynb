{
 "cells": [
  {
   "cell_type": "code",
   "execution_count": 1,
   "metadata": {},
   "outputs": [],
   "source": [
    "import pandas as pd\n",
    "import numpy as np\n",
    "from tqdm import tqdm\n",
    "import pydicom\n",
    "import cv2\n",
    "from math import ceil\n",
    "# import json\n",
    "\n",
    "# from sklearn.manifold import TSNE\n",
    "from sklearn.preprocessing import StandardScaler,LabelEncoder, label_binarize\n",
    "from sklearn.model_selection import train_test_split\n",
    "from sklearn.metrics import f1_score, accuracy_score, confusion_matrix, classification_report\n",
    "\n",
    "# from imblearn.over_sampling import RandomOverSampler\n",
    "import torch\n",
    "from torch.utils.data import DataLoader,TensorDataset\n",
    "import torch.nn as nn\n",
    "import torch.optim as optim\n",
    "\n",
    "import matplotlib.pyplot as plt\n",
    "import seaborn as sns\n",
    "\n",
    "# from helpers import get_ddsm_table, get_INBreast_table, get_VinDR_table, mask_image, run_intensity_functions, run_glcm_features, get_master_df, process_image\n",
    "pd.set_option('display.max_rows', None)\n",
    "pd.set_option('display.max_columns', None)\n",
    "\n",
    "import warnings\n",
    "warnings.filterwarnings(\"ignore\")"
   ]
  },
  {
   "cell_type": "code",
   "execution_count": 2,
   "metadata": {},
   "outputs": [],
   "source": [
    "from helpers import get_ddsm_table, get_INBreast_table, get_VinDR_table, get_master_df, process_image, mask_image"
   ]
  },
  {
   "cell_type": "code",
   "execution_count": 13,
   "metadata": {},
   "outputs": [],
   "source": [
    "ddsm_df = get_ddsm_table(\"../DDSM\")\n",
    "INbreast_df = get_INBreast_table(\"../INbreast Release 1.0\")\n",
    "vindr_df = get_VinDR_table(\"../VinDr\")\n",
    "master_df = get_master_df(vindr_df, ddsm_df, INbreast_df)"
   ]
  },
  {
   "cell_type": "code",
   "execution_count": 14,
   "metadata": {},
   "outputs": [],
   "source": [
    "master_df.replace({'breast_density': {'DENSITY A': 1, 'DENSITY B': 2, 'DENSITY C': 3, 'DENSITY D': 4}}, inplace=True)\n",
    "master_df['breast_density'] = pd.to_numeric(master_df['breast_density'], errors='coerce')\n",
    "master_df.dropna(subset=['breast_density'], inplace=True)\n",
    "master_df['breast_density'] = master_df['breast_density'] - 1\n",
    "# master_df = master_df.groupby('breast_density').sample(n=200)"
   ]
  },
  {
   "cell_type": "code",
   "execution_count": 30,
   "metadata": {},
   "outputs": [],
   "source": [
    "def load_image(row, process):\n",
    "    image_size = (2600,2000)\n",
    "    dicom_path = row[\"full_path\"]\n",
    "    # label = row[\"breast_density\"]\n",
    "    vendor = row[\"Manufacturer\"]\n",
    "    dicom_data = pydicom.dcmread(dicom_path)\n",
    "    image = dicom_data.pixel_array\n",
    "    image = mask_image(image)\n",
    "    \n",
    "    if process:\n",
    "        image = process_image(image, vendor) # custom processing\n",
    "\n",
    "    image = (image - np.mean(image))/np.std(image)\n",
    "    image = cv2.resize(image, image_size)\n",
    "    image = np.expand_dims(image, axis=0)\n",
    "    image = np.expand_dims(image, axis=3)\n",
    "    return image"
   ]
  },
  {
   "cell_type": "code",
   "execution_count": 5,
   "metadata": {},
   "outputs": [],
   "source": [
    "def data_generator(df, batch_size, process=False):\n",
    "    num_samples = len(df)\n",
    "    image_size = (2600,2000)\n",
    "    while True:\n",
    "        for offset in range(0, num_samples, batch_size):\n",
    "            batch_df = df.iloc[offset:offset + batch_size]\n",
    "            images = []\n",
    "            labels = []\n",
    "            \n",
    "            for _, row in batch_df.iterrows():\n",
    "                dicom_path = row[\"full_path\"]\n",
    "                label = row[\"breast_density\"]\n",
    "                vendor = row[\"Manufacturer\"]\n",
    "                dicom_data = pydicom.dcmread(dicom_path)\n",
    "                image = dicom_data.pixel_array\n",
    "                image = mask_image(image)\n",
    "                \n",
    "                if process:\n",
    "                    image = process_image(image, vendor) # custom processing\n",
    "\n",
    "                image = (image - np.mean(image))/np.std(image)\n",
    "                image = cv2.resize(image, image_size)\n",
    "                images.append(image)\n",
    "                labels.append(label)\n",
    "            \n",
    "            # Convert to numpy arrays\n",
    "            images = np.array(images).reshape(-1, 1, *image_size)  # Add channel dimension\n",
    "            labels = np.array(labels)\n",
    "            \n",
    "            yield images, labels"
   ]
  },
  {
   "cell_type": "code",
   "execution_count": 6,
   "metadata": {},
   "outputs": [
    {
     "name": "stdout",
     "output_type": "stream",
     "text": [
      "35 7 7\n"
     ]
    }
   ],
   "source": [
    "batch_size = 16\n",
    "\n",
    "train_df, temp_df = train_test_split(master_df, test_size=0.3, random_state=42)\n",
    "val_df, test_df = train_test_split(temp_df, test_size=0.5, random_state=42)\n",
    "\n",
    "# Create generators\n",
    "train_gen = data_generator(train_df, batch_size, True)\n",
    "val_gen = data_generator(val_df, batch_size, True)\n",
    "test_gen = data_generator(test_df, batch_size, True)\n",
    "\n",
    "# Get the number of steps per epoch\n",
    "train_steps = ceil(len(train_df) // batch_size)\n",
    "val_steps = ceil(len(val_df) // batch_size)\n",
    "test_steps = ceil(len(test_df) // batch_size)\n",
    "print(train_steps, val_steps, test_steps)\n"
   ]
  },
  {
   "cell_type": "code",
   "execution_count": 7,
   "metadata": {},
   "outputs": [],
   "source": [
    "from model import BaselineBreastModel as CNNModel\n",
    "model = CNNModel(device='cuda')\n",
    "model = model.to('cuda')"
   ]
  },
  {
   "cell_type": "code",
   "execution_count": 8,
   "metadata": {},
   "outputs": [],
   "source": [
    "criterion = nn.CrossEntropyLoss()\n",
    "optimizer = optim.Adam(model.parameters(), lr=0.001)\n",
    "epochs = 20\n",
    "best_val_loss = float('inf')\n",
    "epochs_without_improvement = 0\n",
    "early_stop = False\n",
    "min_delta = 0.001\n",
    "patience = 10"
   ]
  },
  {
   "cell_type": "code",
   "execution_count": 9,
   "metadata": {},
   "outputs": [],
   "source": [
    "epochs_without_improvement = 0\n"
   ]
  },
  {
   "cell_type": "code",
   "execution_count": 10,
   "metadata": {},
   "outputs": [],
   "source": [
    "train_losses = []\n",
    "train_accuracies = []\n",
    "train_f1_scores = []\n",
    "\n",
    "val_losses = []\n",
    "val_accuracies = []\n",
    "val_f1_scores = []"
   ]
  },
  {
   "cell_type": "code",
   "execution_count": 11,
   "metadata": {},
   "outputs": [
    {
     "name": "stderr",
     "output_type": "stream",
     "text": [
      "Training batch: 100%|██████████| 35/35 [04:31<00:00,  7.76s/it]\n",
      "Validation batch: 100%|██████████| 7/7 [00:38<00:00,  5.43s/it]\n"
     ]
    },
    {
     "name": "stdout",
     "output_type": "stream",
     "text": [
      "Epoch 1/20 | Train Loss: 1.3898 | Train Acc: 0.2232 | Train F1: 0.1015\n",
      "Validation Loss: 1.3869 | Validation Acc: 0.2000 | Validation F1: 0.0846\n"
     ]
    },
    {
     "name": "stderr",
     "output_type": "stream",
     "text": [
      "Training batch: 100%|██████████| 35/35 [04:30<00:00,  7.74s/it]\n",
      "Validation batch: 100%|██████████| 7/7 [00:34<00:00,  4.97s/it]\n"
     ]
    },
    {
     "name": "stdout",
     "output_type": "stream",
     "text": [
      "Epoch 2/20 | Train Loss: 1.3865 | Train Acc: 0.2661 | Train F1: 0.1245\n",
      "Validation Loss: 1.3867 | Validation Acc: 0.1917 | Validation F1: 0.0904\n"
     ]
    },
    {
     "name": "stderr",
     "output_type": "stream",
     "text": [
      "Training batch: 100%|██████████| 35/35 [04:34<00:00,  7.85s/it]\n",
      "Validation batch: 100%|██████████| 7/7 [00:35<00:00,  5.03s/it]\n"
     ]
    },
    {
     "name": "stdout",
     "output_type": "stream",
     "text": [
      "Epoch 3/20 | Train Loss: 1.3868 | Train Acc: 0.2661 | Train F1: 0.1245\n",
      "Validation Loss: 1.3873 | Validation Acc: 0.1750 | Validation F1: 0.0776\n"
     ]
    },
    {
     "name": "stderr",
     "output_type": "stream",
     "text": [
      "Training batch: 100%|██████████| 35/35 [04:29<00:00,  7.69s/it]\n",
      "Validation batch: 100%|██████████| 7/7 [00:34<00:00,  4.89s/it]\n"
     ]
    },
    {
     "name": "stdout",
     "output_type": "stream",
     "text": [
      "Epoch 4/20 | Train Loss: 1.3866 | Train Acc: 0.2661 | Train F1: 0.1245\n",
      "Validation Loss: 1.3864 | Validation Acc: 0.2083 | Validation F1: 0.0978\n"
     ]
    },
    {
     "name": "stderr",
     "output_type": "stream",
     "text": [
      "Training batch: 100%|██████████| 35/35 [04:24<00:00,  7.56s/it]\n",
      "Validation batch: 100%|██████████| 7/7 [00:34<00:00,  4.94s/it]\n"
     ]
    },
    {
     "name": "stdout",
     "output_type": "stream",
     "text": [
      "Epoch 5/20 | Train Loss: 1.3864 | Train Acc: 0.2661 | Train F1: 0.1245\n",
      "Validation Loss: 1.3871 | Validation Acc: 0.1833 | Validation F1: 0.0846\n"
     ]
    },
    {
     "name": "stderr",
     "output_type": "stream",
     "text": [
      "Training batch: 100%|██████████| 35/35 [04:27<00:00,  7.65s/it]\n",
      "Validation batch: 100%|██████████| 7/7 [00:34<00:00,  4.92s/it]\n"
     ]
    },
    {
     "name": "stdout",
     "output_type": "stream",
     "text": [
      "Epoch 6/20 | Train Loss: 1.3861 | Train Acc: 0.2661 | Train F1: 0.1245\n",
      "Validation Loss: 1.3873 | Validation Acc: 0.1833 | Validation F1: 0.0846\n"
     ]
    },
    {
     "name": "stderr",
     "output_type": "stream",
     "text": [
      "Training batch: 100%|██████████| 35/35 [04:28<00:00,  7.67s/it]\n",
      "Validation batch: 100%|██████████| 7/7 [00:33<00:00,  4.74s/it]\n"
     ]
    },
    {
     "name": "stdout",
     "output_type": "stream",
     "text": [
      "Epoch 7/20 | Train Loss: 1.3861 | Train Acc: 0.2661 | Train F1: 0.1245\n",
      "Validation Loss: 1.3878 | Validation Acc: 0.1750 | Validation F1: 0.0776\n"
     ]
    },
    {
     "name": "stderr",
     "output_type": "stream",
     "text": [
      "Training batch: 100%|██████████| 35/35 [04:28<00:00,  7.67s/it]\n",
      "Validation batch: 100%|██████████| 7/7 [00:34<00:00,  4.91s/it]\n"
     ]
    },
    {
     "name": "stdout",
     "output_type": "stream",
     "text": [
      "Epoch 8/20 | Train Loss: 1.3861 | Train Acc: 0.2661 | Train F1: 0.1245\n",
      "Validation Loss: 1.3870 | Validation Acc: 0.2000 | Validation F1: 0.0949\n"
     ]
    },
    {
     "name": "stderr",
     "output_type": "stream",
     "text": [
      "Training batch: 100%|██████████| 35/35 [04:32<00:00,  7.78s/it]\n",
      "Validation batch: 100%|██████████| 7/7 [00:38<00:00,  5.52s/it]\n"
     ]
    },
    {
     "name": "stdout",
     "output_type": "stream",
     "text": [
      "Epoch 9/20 | Train Loss: 1.3860 | Train Acc: 0.2661 | Train F1: 0.1245\n",
      "Validation Loss: 1.3878 | Validation Acc: 0.2000 | Validation F1: 0.0846\n"
     ]
    },
    {
     "name": "stderr",
     "output_type": "stream",
     "text": [
      "Training batch: 100%|██████████| 35/35 [04:29<00:00,  7.71s/it]\n",
      "Validation batch: 100%|██████████| 7/7 [00:35<00:00,  5.03s/it]\n"
     ]
    },
    {
     "name": "stdout",
     "output_type": "stream",
     "text": [
      "Epoch 10/20 | Train Loss: 1.3860 | Train Acc: 0.2661 | Train F1: 0.1245\n",
      "Validation Loss: 1.3876 | Validation Acc: 0.1917 | Validation F1: 0.0904\n"
     ]
    },
    {
     "name": "stderr",
     "output_type": "stream",
     "text": [
      "Training batch: 100%|██████████| 35/35 [04:32<00:00,  7.78s/it]\n",
      "Validation batch: 100%|██████████| 7/7 [00:35<00:00,  5.06s/it]\n"
     ]
    },
    {
     "name": "stdout",
     "output_type": "stream",
     "text": [
      "Epoch 11/20 | Train Loss: 1.3860 | Train Acc: 0.2661 | Train F1: 0.1245\n",
      "Validation Loss: 1.3886 | Validation Acc: 0.1750 | Validation F1: 0.0776\n"
     ]
    },
    {
     "name": "stderr",
     "output_type": "stream",
     "text": [
      "Training batch: 100%|██████████| 35/35 [04:27<00:00,  7.64s/it]\n",
      "Validation batch: 100%|██████████| 7/7 [00:34<00:00,  4.86s/it]\n"
     ]
    },
    {
     "name": "stdout",
     "output_type": "stream",
     "text": [
      "Epoch 12/20 | Train Loss: 1.3860 | Train Acc: 0.2661 | Train F1: 0.1245\n",
      "Validation Loss: 1.3869 | Validation Acc: 0.2083 | Validation F1: 0.0978\n"
     ]
    },
    {
     "name": "stderr",
     "output_type": "stream",
     "text": [
      "Training batch: 100%|██████████| 35/35 [04:31<00:00,  7.75s/it]\n",
      "Validation batch: 100%|██████████| 7/7 [00:34<00:00,  4.95s/it]\n"
     ]
    },
    {
     "name": "stdout",
     "output_type": "stream",
     "text": [
      "Epoch 13/20 | Train Loss: 1.3859 | Train Acc: 0.2661 | Train F1: 0.1245\n",
      "Validation Loss: 1.3884 | Validation Acc: 0.1833 | Validation F1: 0.0846\n"
     ]
    },
    {
     "name": "stderr",
     "output_type": "stream",
     "text": [
      "Training batch: 100%|██████████| 35/35 [04:28<00:00,  7.67s/it]\n",
      "Validation batch: 100%|██████████| 7/7 [00:33<00:00,  4.80s/it]"
     ]
    },
    {
     "name": "stdout",
     "output_type": "stream",
     "text": [
      "Epoch 14/20 | Train Loss: 1.3859 | Train Acc: 0.2661 | Train F1: 0.1245\n",
      "Validation Loss: 1.3885 | Validation Acc: 0.1833 | Validation F1: 0.0846\n",
      "Early stopping triggered!\n"
     ]
    },
    {
     "name": "stderr",
     "output_type": "stream",
     "text": [
      "\n"
     ]
    }
   ],
   "source": [
    "for epoch in range(epochs):\n",
    "    model.train()\n",
    "    train_loss, train_acc, train_f1 = 0, 0, 0\n",
    "    for _ in tqdm(range(train_steps), desc='Training batch'):\n",
    "        images, labels = next(train_gen)\n",
    "        optimizer.zero_grad()\n",
    "        images = torch.tensor(images, dtype=torch.float32).to('cuda')\n",
    "        labels = torch.tensor(labels, dtype=torch.long).to('cuda')\n",
    "        outputs = model(images)\n",
    "        loss = criterion(outputs, labels)\n",
    "        loss.backward()\n",
    "        optimizer.step()\n",
    "\n",
    "        # Calculate metrics\n",
    "        preds = torch.argmax(outputs, dim=1)\n",
    "        train_loss += loss.item()\n",
    "        train_acc += (preds == labels).sum().item()\n",
    "        train_f1 += f1_score(labels.cpu(), preds.cpu(), average='weighted')\n",
    "\n",
    "    train_loss /= train_steps\n",
    "    train_acc /= len(train_df)\n",
    "    train_f1 /= train_steps\n",
    "    train_losses.append(train_loss)\n",
    "    train_accuracies.append(train_acc)\n",
    "    train_f1_scores.append(train_f1)\n",
    "\n",
    "    # Validation phase\n",
    "    model.eval()\n",
    "    val_loss, val_acc, val_f1 = 0, 0, 0\n",
    "    with torch.no_grad():\n",
    "        for _ in tqdm(range(val_steps), desc='Validation batch'):\n",
    "            images, labels = next(val_gen)\n",
    "            images = torch.tensor(images, dtype=torch.float32).to('cuda')\n",
    "            labels = torch.tensor(labels, dtype=torch.long).to('cuda')            \n",
    "            outputs = model(images)\n",
    "            loss = criterion(outputs, labels)\n",
    "\n",
    "            # Calculate metrics\n",
    "            preds = torch.argmax(outputs, dim=1)\n",
    "            val_loss += loss.item()\n",
    "            val_acc += (preds == labels).sum().item()\n",
    "            val_f1 += f1_score(labels.cpu(), preds.cpu(), average='weighted')\n",
    "\n",
    "    val_loss /= val_steps\n",
    "    val_acc /= len(val_df)\n",
    "    val_f1 /= val_steps\n",
    "    val_losses.append(val_loss)\n",
    "    val_accuracies.append(val_acc)\n",
    "    val_f1_scores.append(val_f1)\n",
    "\n",
    "    # Print progress\n",
    "    print(f\"Epoch {epoch+1}/{epochs} | Train Loss: {train_loss:.4f} | Train Acc: {train_acc:.4f} | Train F1: {train_f1:.4f}\")\n",
    "    print(f\"Validation Loss: {val_loss:.4f} | Validation Acc: {val_acc:.4f} | Validation F1: {val_f1:.4f}\")\n",
    "\n",
    "    # Early stopping check\n",
    "    if val_loss < best_val_loss:\n",
    "        best_val_loss = val_loss\n",
    "        epochs_without_improvement = 0\n",
    "    else:\n",
    "        epochs_without_improvement += 1\n",
    "\n",
    "    if epochs_without_improvement >= patience:\n",
    "        print(\"Early stopping triggered!\")\n",
    "        break"
   ]
  },
  {
   "cell_type": "code",
   "execution_count": 17,
   "metadata": {},
   "outputs": [],
   "source": [
    "torch.save(model.state_dict(), 'model.pth')\n",
    "torch.save(model, 'model_full.pth')"
   ]
  },
  {
   "cell_type": "code",
   "execution_count": 5,
   "metadata": {},
   "outputs": [],
   "source": [
    "import models_torch as models"
   ]
  },
  {
   "cell_type": "code",
   "execution_count": 6,
   "metadata": {},
   "outputs": [
    {
     "data": {
      "text/plain": [
       "<All keys matched successfully>"
      ]
     },
     "execution_count": 6,
     "metadata": {},
     "output_type": "execute_result"
    }
   ],
   "source": [
    "model = models.BaselineBreastModel('cuda', nodropout_probability=1.0, gaussian_noise_std=0.0).to('cuda')\n",
    "model.load_state_dict(torch.load('model.p'))"
   ]
  },
  {
   "cell_type": "code",
   "execution_count": 15,
   "metadata": {},
   "outputs": [],
   "source": [
    "df = master_df[master_df['Manufacturer'].isin(['SIEMENS', 'Planmed', 'IMS s.r.l.', 'IMS GIOTTO S.p.A.'])]"
   ]
  },
  {
   "cell_type": "code",
   "execution_count": 16,
   "metadata": {},
   "outputs": [
    {
     "data": {
      "text/plain": [
       "2032"
      ]
     },
     "execution_count": 16,
     "metadata": {},
     "output_type": "execute_result"
    }
   ],
   "source": [
    "len(df)"
   ]
  },
  {
   "cell_type": "code",
   "execution_count": 18,
   "metadata": {},
   "outputs": [],
   "source": [
    "df.sort_values('full_path', inplace=True)"
   ]
  },
  {
   "cell_type": "code",
   "execution_count": 23,
   "metadata": {},
   "outputs": [
    {
     "data": {
      "text/html": [
       "<div>\n",
       "<style scoped>\n",
       "    .dataframe tbody tr th:only-of-type {\n",
       "        vertical-align: middle;\n",
       "    }\n",
       "\n",
       "    .dataframe tbody tr th {\n",
       "        vertical-align: top;\n",
       "    }\n",
       "\n",
       "    .dataframe thead th {\n",
       "        text-align: right;\n",
       "    }\n",
       "</style>\n",
       "<table border=\"1\" class=\"dataframe\">\n",
       "  <thead>\n",
       "    <tr style=\"text-align: right;\">\n",
       "      <th></th>\n",
       "      <th>laterality</th>\n",
       "      <th>view_position</th>\n",
       "      <th>breast_density</th>\n",
       "      <th>Manufacturer</th>\n",
       "      <th>full_path</th>\n",
       "    </tr>\n",
       "  </thead>\n",
       "  <tbody>\n",
       "    <tr>\n",
       "      <th>34</th>\n",
       "      <td>R</td>\n",
       "      <td>CC</td>\n",
       "      <td>1.0</td>\n",
       "      <td>SIEMENS</td>\n",
       "      <td>../VinDr\\00a7a306c763ab5f0cb6a846825b7d04\\2749...</td>\n",
       "    </tr>\n",
       "    <tr>\n",
       "      <th>35</th>\n",
       "      <td>R</td>\n",
       "      <td>MLO</td>\n",
       "      <td>1.0</td>\n",
       "      <td>SIEMENS</td>\n",
       "      <td>../VinDr\\00a7a306c763ab5f0cb6a846825b7d04\\2ce5...</td>\n",
       "    </tr>\n",
       "    <tr>\n",
       "      <th>32</th>\n",
       "      <td>L</td>\n",
       "      <td>CC</td>\n",
       "      <td>1.0</td>\n",
       "      <td>SIEMENS</td>\n",
       "      <td>../VinDr\\00a7a306c763ab5f0cb6a846825b7d04\\6c4c...</td>\n",
       "    </tr>\n",
       "    <tr>\n",
       "      <th>33</th>\n",
       "      <td>L</td>\n",
       "      <td>MLO</td>\n",
       "      <td>1.0</td>\n",
       "      <td>SIEMENS</td>\n",
       "      <td>../VinDr\\00a7a306c763ab5f0cb6a846825b7d04\\c7ae...</td>\n",
       "    </tr>\n",
       "    <tr>\n",
       "      <th>1802</th>\n",
       "      <td>R</td>\n",
       "      <td>MLO</td>\n",
       "      <td>2.0</td>\n",
       "      <td>Planmed</td>\n",
       "      <td>../VinDr\\00fff3f5e68727ee9a2cceeefee31bb9\\6fbd...</td>\n",
       "    </tr>\n",
       "  </tbody>\n",
       "</table>\n",
       "</div>"
      ],
      "text/plain": [
       "     laterality view_position  breast_density Manufacturer  \\\n",
       "34            R            CC             1.0      SIEMENS   \n",
       "35            R           MLO             1.0      SIEMENS   \n",
       "32            L            CC             1.0      SIEMENS   \n",
       "33            L           MLO             1.0      SIEMENS   \n",
       "1802          R           MLO             2.0      Planmed   \n",
       "\n",
       "                                              full_path  \n",
       "34    ../VinDr\\00a7a306c763ab5f0cb6a846825b7d04\\2749...  \n",
       "35    ../VinDr\\00a7a306c763ab5f0cb6a846825b7d04\\2ce5...  \n",
       "32    ../VinDr\\00a7a306c763ab5f0cb6a846825b7d04\\6c4c...  \n",
       "33    ../VinDr\\00a7a306c763ab5f0cb6a846825b7d04\\c7ae...  \n",
       "1802  ../VinDr\\00fff3f5e68727ee9a2cceeefee31bb9\\6fbd...  "
      ]
     },
     "execution_count": 23,
     "metadata": {},
     "output_type": "execute_result"
    }
   ],
   "source": [
    "df.head()"
   ]
  },
  {
   "cell_type": "code",
   "execution_count": 24,
   "metadata": {},
   "outputs": [],
   "source": [
    "from utils import load_images"
   ]
  },
  {
   "cell_type": "code",
   "execution_count": 71,
   "metadata": {},
   "outputs": [],
   "source": [
    "df['patient'] = df['full_path'].str.split('\\\\').str[1]"
   ]
  },
  {
   "cell_type": "code",
   "execution_count": 103,
   "metadata": {},
   "outputs": [],
   "source": [
    "patients = df['patient'].unique()\n",
    "goodpatients = []\n",
    "for i in patients:\n",
    "    rows = df[df['patient'] == i]\n",
    "    views = rows['view_position'].values\n",
    "    lats = rows['laterality'].values\n",
    "    densities = rows['breast_density'].nunique()\n",
    "    if('CC' in views and 'MLO' in views):\n",
    "        if('L' in lats and 'R' in lats):\n",
    "            if(len(views) == 4 and len(lats) == 4):\n",
    "                if(densities == 1):\n",
    "                    goodpatients.append(i)"
   ]
  },
  {
   "cell_type": "code",
   "execution_count": 104,
   "metadata": {},
   "outputs": [],
   "source": [
    "df = df[df['patient'].isin(goodpatients)]"
   ]
  },
  {
   "cell_type": "code",
   "execution_count": 123,
   "metadata": {},
   "outputs": [],
   "source": [
    "correct=0\n",
    "device = 'cuda'"
   ]
  },
  {
   "cell_type": "code",
   "execution_count": 124,
   "metadata": {},
   "outputs": [],
   "source": [
    "preds = []\n",
    "labels = []"
   ]
  },
  {
   "cell_type": "code",
   "execution_count": 125,
   "metadata": {},
   "outputs": [
    {
     "name": "stderr",
     "output_type": "stream",
     "text": [
      "100%|██████████| 479/479 [06:05<00:00,  1.31it/s]\n"
     ]
    }
   ],
   "source": [
    "for i in tqdm(range(0, len(df), 4)):\n",
    "    l_cc = None\n",
    "    r_cc = None\n",
    "    l_mlo = None\n",
    "    r_mlo = None\n",
    "    for j in range(4):\n",
    "        row = df.iloc[i+j]\n",
    "        image = load_image(row, False)\n",
    "        if(row['laterality'] == 'L' and row['view_position'] == 'CC'):\n",
    "            l_cc = image\n",
    "        elif(row['laterality'] == 'R' and row['view_position'] == 'CC'):\n",
    "            r_cc = image\n",
    "        elif(row['laterality'] == 'L' and row['view_position'] == 'MLO'):\n",
    "            l_mlo = image\n",
    "        elif(row['laterality'] == 'R' and row['view_position'] == 'MLO'):\n",
    "            r_mlo = image\n",
    "    x = {\n",
    "        \"L-CC\": torch.Tensor(l_cc).permute(0, 3, 1, 2).to(device),\n",
    "        \"L-MLO\": torch.Tensor(l_mlo).permute(0, 3, 1, 2).to(device),\n",
    "        \"R-CC\": torch.Tensor(r_cc).permute(0, 3, 1, 2).to(device),\n",
    "        \"R-MLO\": torch.Tensor(r_mlo).permute(0, 3, 1, 2).to(device),\n",
    "    }\n",
    "    label = row['breast_density']\n",
    "    with torch.no_grad():\n",
    "        prediction_density = model(x).cpu()\n",
    "        pred = torch.argmax(prediction_density, dim=1)\n",
    "        preds.append(pred.item())\n",
    "        labels.append(int(label))\n",
    "        acc = (pred.item() == int(label))\n",
    "        if(acc):\n",
    "            correct+=1\n",
    "        "
   ]
  },
  {
   "cell_type": "code",
   "execution_count": 126,
   "metadata": {},
   "outputs": [
    {
     "data": {
      "text/plain": [
       "breast_density\n",
       "2.0    1468\n",
       "3.0     256\n",
       "1.0     184\n",
       "0.0       8\n",
       "Name: count, dtype: int64"
      ]
     },
     "execution_count": 126,
     "metadata": {},
     "output_type": "execute_result"
    }
   ],
   "source": [
    "df['breast_density'].value_counts()"
   ]
  },
  {
   "cell_type": "code",
   "execution_count": 131,
   "metadata": {},
   "outputs": [
    {
     "data": {
      "text/plain": [
       "54.69728601252609"
      ]
     },
     "execution_count": 131,
     "metadata": {},
     "output_type": "execute_result"
    }
   ],
   "source": [
    "correct/479 * 100"
   ]
  },
  {
   "cell_type": "code",
   "execution_count": 130,
   "metadata": {},
   "outputs": [
    {
     "data": {
      "image/png": "[encoded data removed]",
      "text/plain": [
       "<Figure size 800x600 with 2 Axes>"
      ]
     },
     "metadata": {},
     "output_type": "display_data"
    }
   ],
   "source": [
    "cm = confusion_matrix(labels, preds)\n",
    "plt.figure(figsize=(8, 6))\n",
    "sns.heatmap(cm, annot=True, fmt='d', cmap='Blues', xticklabels=np.unique(labels), yticklabels=np.unique(labels))\n",
    "plt.xlabel('Predicted Labels')\n",
    "plt.ylabel('True Labels')\n",
    "plt.title('Confusion Matrix')\n",
    "plt.show()"
   ]
  },
  {
   "cell_type": "code",
   "execution_count": 129,
   "metadata": {},
   "outputs": [
    {
     "data": {
      "text/plain": [
       "0.569212307618333"
      ]
     },
     "execution_count": 129,
     "metadata": {},
     "output_type": "execute_result"
    }
   ],
   "source": [
    "f1_score(labels, preds, average='weighted')"
   ]
  },
  {
   "cell_type": "code",
   "execution_count": 31,
   "metadata": {},
   "outputs": [],
   "source": [
    "r_cc = load_image(df.iloc[0], False)\n",
    "r_mlo = load_image(df.iloc[1], False)\n",
    "l_cc = load_image(df.iloc[2], False)\n",
    "l_mlo = load_image(df.iloc[3], False)\n"
   ]
  },
  {
   "cell_type": "code",
   "execution_count": 26,
   "metadata": {},
   "outputs": [],
   "source": [
    "device = 'cuda'"
   ]
  },
  {
   "cell_type": "code",
   "execution_count": 32,
   "metadata": {},
   "outputs": [],
   "source": [
    "x = {\n",
    "        \"L-CC\": torch.Tensor(l_cc).permute(0, 3, 1, 2).to(device),\n",
    "        \"L-MLO\": torch.Tensor(l_mlo).permute(0, 3, 1, 2).to(device),\n",
    "        \"R-CC\": torch.Tensor(r_cc).permute(0, 3, 1, 2).to(device),\n",
    "        \"R-MLO\": torch.Tensor(r_mlo).permute(0, 3, 1, 2).to(device),\n",
    "}"
   ]
  },
  {
   "cell_type": "code",
   "execution_count": 42,
   "metadata": {},
   "outputs": [],
   "source": [
    "with torch.no_grad():\n",
    "        prediction_density = model(x).cpu()"
   ]
  },
  {
   "cell_type": "code",
   "execution_count": 47,
   "metadata": {},
   "outputs": [
    {
     "data": {
      "text/plain": [
       "tensor([2])"
      ]
     },
     "execution_count": 47,
     "metadata": {},
     "output_type": "execute_result"
    }
   ],
   "source": [
    "pred = torch.argmax(prediction_density, dim=1)\n",
    "pred\n",
    "# pred == torch.Tensor(1)"
   ]
  },
  {
   "cell_type": "code",
   "execution_count": 36,
   "metadata": {},
   "outputs": [
    {
     "name": "stdout",
     "output_type": "stream",
     "text": [
      "Density prediction:\n",
      "\tAlmost entirely fatty (0):\t\t\t0.015911328\n",
      "\tScattered areas of fibroglandular density (1):\t0.14773406\n",
      "\tHeterogeneously dense (2):\t\t\t0.61962146\n",
      "\tExtremely dense (3):\t\t\t\t0.21673316\n",
      "\n"
     ]
    }
   ],
   "source": [
    "print('Density prediction:\\n'\n",
    "              '\\tAlmost entirely fatty (0):\\t\\t\\t' + str(prediction_density[0, 0]) + '\\n'\n",
    "              '\\tScattered areas of fibroglandular density (1):\\t' + str(prediction_density[0, 1]) + '\\n'\n",
    "              '\\tHeterogeneously dense (2):\\t\\t\\t' + str(prediction_density[0, 2]) + '\\n'\n",
    "              '\\tExtremely dense (3):\\t\\t\\t\\t' + str(prediction_density[0, 3]) + '\\n')"
   ]
  },
  {
   "cell_type": "code",
   "execution_count": 16,
   "metadata": {},
   "outputs": [
    {
     "data": {
      "text/plain": [
       "Manufacturer\n",
       "SIEMENS              290\n",
       "Siemens_INBreast     221\n",
       "DDSM                 185\n",
       "Planmed               83\n",
       "IMS s.r.l.            15\n",
       "IMS GIOTTO S.p.A.      6\n",
       "Name: count, dtype: int64"
      ]
     },
     "execution_count": 16,
     "metadata": {},
     "output_type": "execute_result"
    }
   ],
   "source": [
    "master_df['Manufacturer'].value_counts()"
   ]
  },
  {
   "cell_type": "code",
   "execution_count": 16,
   "metadata": {},
   "outputs": [
    {
     "data": {
      "text/plain": [
       "tensor([[0.2365, 0.2367, 0.2908, 0.2360],\n",
       "        [0.2368, 0.2367, 0.2916, 0.2349],\n",
       "        [0.2354, 0.2380, 0.2908, 0.2358],\n",
       "        [0.2395, 0.2379, 0.2879, 0.2348],\n",
       "        [0.2347, 0.2351, 0.2964, 0.2338],\n",
       "        [0.2354, 0.2363, 0.2938, 0.2345],\n",
       "        [0.2348, 0.2378, 0.2921, 0.2353],\n",
       "        [0.2383, 0.2372, 0.2909, 0.2336],\n",
       "        [0.2357, 0.2365, 0.2923, 0.2356],\n",
       "        [0.2350, 0.2358, 0.2938, 0.2353],\n",
       "        [0.2378, 0.2371, 0.2901, 0.2349],\n",
       "        [0.2367, 0.2359, 0.2921, 0.2353],\n",
       "        [0.2400, 0.2393, 0.2861, 0.2346],\n",
       "        [0.2379, 0.2374, 0.2901, 0.2346],\n",
       "        [0.2370, 0.2376, 0.2894, 0.2360],\n",
       "        [0.2355, 0.2370, 0.2922, 0.2353]], device='cuda:0',\n",
       "       grad_fn=<SoftmaxBackward0>)"
      ]
     },
     "execution_count": 16,
     "metadata": {},
     "output_type": "execute_result"
    }
   ],
   "source": [
    "images, labels = next(test_gen)\n",
    "images = torch.tensor(images, dtype=torch.float32).to('cuda')\n",
    "labels = torch.tensor(labels, dtype=torch.long).to('cuda') \n",
    "model(images)"
   ]
  }
 ],
 "metadata": {
  "kernelspec": {
   "display_name": "Python 3",
   "language": "python",
   "name": "python3"
  },
  "language_info": {
   "codemirror_mode": {
    "name": "ipython",
    "version": 3
   },
   "file_extension": ".py",
   "mimetype": "text/x-python",
   "name": "python",
   "nbconvert_exporter": "python",
   "pygments_lexer": "ipython3",
   "version": "3.9.13"
  }
 },
 "nbformat": 4,
 "nbformat_minor": 2
}
